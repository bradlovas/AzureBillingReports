{
 "cells": [
  {
   "cell_type": "code",
   "execution_count": 32,
   "metadata": {},
   "outputs": [],
   "source": [
    "import pandas as pd\n",
    "import pathlib"
   ]
  },
  {
   "cell_type": "code",
   "execution_count": 33,
   "metadata": {},
   "outputs": [
    {
     "data": {
      "text/plain": [
       "WindowsPath('C:/Users/brlamore/Desktop/Carrier Reports/Data')"
      ]
     },
     "execution_count": 33,
     "metadata": {},
     "output_type": "execute_result"
    }
   ],
   "source": [
    "reports_dir = pathlib.Path().resolve().parent.parent.parent / \"Desktop\" / \"Carrier Reports\" / \"Data\"\n",
    "reports_dir"
   ]
  },
  {
   "cell_type": "code",
   "execution_count": 34,
   "metadata": {},
   "outputs": [
    {
     "data": {
      "text/plain": [
       "WindowsPath('C:/Users/brlamore/Desktop/Carrier Reports/Data/usage-2021-11-11T16-00-33+00-00.csv-sample-0.01.csv-sample-0.01.csv')"
      ]
     },
     "execution_count": 34,
     "metadata": {},
     "output_type": "execute_result"
    }
   ],
   "source": [
    "file_name = \"usage-2021-11-11T16-00-33+00-00.csv-sample-0.01.csv-sample-0.01.csv\"\n",
    "file_path = pathlib.Path(reports_dir).joinpath(file_name)\n",
    "file_path"
   ]
  },
  {
   "cell_type": "code",
   "execution_count": 30,
   "metadata": {},
   "outputs": [
    {
     "name": "stderr",
     "output_type": "stream",
     "text": [
      "C:\\ProgramData\\Anaconda3\\lib\\site-packages\\IPython\\core\\interactiveshell.py:3020: DtypeWarning: Columns (8) have mixed types. Specify dtype option on import or set low_memory=False.\n",
      "  interactivity=interactivity, compiler=compiler, result=result)\n",
      "C:\\ProgramData\\Anaconda3\\lib\\site-packages\\IPython\\core\\interactiveshell.py:3020: DtypeWarning: Columns (26) have mixed types. Specify dtype option on import or set low_memory=False.\n",
      "  interactivity=interactivity, compiler=compiler, result=result)\n"
     ]
    }
   ],
   "source": [
    "# chunk_size=50000\n",
    "# batch_no=1\n",
    "# for chunk in pd.read_csv(file_path,chunksize=chunk_size):\n",
    "#     chunk.to_csv('chunk'+str(batch_no)+'.csv',index=False)\n",
    "#     batch_no+=1"
   ]
  },
  {
   "cell_type": "code",
   "execution_count": 31,
   "metadata": {},
   "outputs": [],
   "source": [
    "import pandas as pd\n",
    "import sqlite3\n",
    "from sqlalchemy import create_engine\n",
    "import pathlib"
   ]
  },
  {
   "cell_type": "code",
   "execution_count": 55,
   "metadata": {},
   "outputs": [],
   "source": [
    "csv_database = create_engine('sqlite:///small_sample.db')"
   ]
  },
  {
   "cell_type": "code",
   "execution_count": 56,
   "metadata": {},
   "outputs": [],
   "source": [
    "dtype={'AccountId': 'int64', 'AccountName': 'object', 'AccountOwnerEmail': 'object', 'AdditionalInfo': 'object', 'ConsumedQuantity': 'float64', 'ConsumedService': 'object', 'ConsumedServiceId': 'int64', 'Cost': 'float64', 'CostCenter': 'object', 'Date': 'object', 'DepartmentId': 'int64', 'DepartmentName': 'object', 'InstanceId': 'object', 'MeterCategory': 'object', 'MeterId': 'object', 'MeterName': 'object', 'MeterRegion': 'object', 'MeterSubCategory': 'object', 'Product': 'object', 'ProductId': 'int64', 'ResourceGroup': 'object', 'ResourceLocation': 'object', 'ResourceLocationId': 'int64', 'ResourceRate': 'float64', 'ServiceAdministratorId': 'object', 'ServiceInfo1': 'object', 'ServiceInfo2': 'object', 'StoreServiceIdentifier': 'object', 'SubscriptionGuid': 'object', 'SubscriptionId': 'int64', 'SubscriptionName': 'object', 'Tags': 'object', 'UnitOfMeasure': 'object', 'PartNumber': 'object', 'ResourceGuid': 'object', 'OfferId': 'object', 'ChargesBilledSeparately': 'int64', 'Location': 'object', 'ServiceName': 'object', 'ServiceTier': 'object'}"
   ]
  },
  {
   "cell_type": "code",
   "execution_count": 57,
   "metadata": {},
   "outputs": [
    {
     "name": "stdout",
     "output_type": "stream",
     "text": [
      "index: 2\n"
     ]
    }
   ],
   "source": [
    "chunk_size=50000\n",
    "batch_no=1\n",
    "for chunk in pd.read_csv(file_path,chunksize=chunk_size,iterator=True, dtype=dtype, parse_dates=['Date']):\n",
    "    chunk.to_sql('chunk_sql',csv_database, if_exists='append')\n",
    "    batch_no+=1\n",
    "    print('index: {}'.format(batch_no))"
   ]
  },
  {
   "cell_type": "code",
   "execution_count": 62,
   "metadata": {},
   "outputs": [
    {
     "data": {
      "text/html": [
       "<div>\n",
       "<style scoped>\n",
       "    .dataframe tbody tr th:only-of-type {\n",
       "        vertical-align: middle;\n",
       "    }\n",
       "\n",
       "    .dataframe tbody tr th {\n",
       "        vertical-align: top;\n",
       "    }\n",
       "\n",
       "    .dataframe thead th {\n",
       "        text-align: right;\n",
       "    }\n",
       "</style>\n",
       "<table border=\"1\" class=\"dataframe\">\n",
       "  <thead>\n",
       "    <tr style=\"text-align: right;\">\n",
       "      <th></th>\n",
       "      <th>Date</th>\n",
       "      <th>ResourceGroup</th>\n",
       "    </tr>\n",
       "  </thead>\n",
       "  <tbody>\n",
       "    <tr>\n",
       "      <th>0</th>\n",
       "      <td>2021-10-16 00:00:00.000000</td>\n",
       "      <td>8107C-RG-CAR-DCE-DTO-CloudOps-D</td>\n",
       "    </tr>\n",
       "    <tr>\n",
       "      <th>1</th>\n",
       "      <td>2021-10-16 00:00:00.000000</td>\n",
       "      <td>8107c-rg-car-dce-whq-cloudservicetools-d</td>\n",
       "    </tr>\n",
       "    <tr>\n",
       "      <th>2</th>\n",
       "      <td>2021-10-16 00:00:00.000000</td>\n",
       "      <td>8038C-RG-CAR-DCE-DTO-CloudOps15-P</td>\n",
       "    </tr>\n",
       "    <tr>\n",
       "      <th>3</th>\n",
       "      <td>2021-10-17 00:00:00.000000</td>\n",
       "      <td>cloud-shell-storage-eastus</td>\n",
       "    </tr>\n",
       "    <tr>\n",
       "      <th>4</th>\n",
       "      <td>2021-10-16 00:00:00.000000</td>\n",
       "      <td>8229C-RG-CAR-MP5-WHQ-ChubbGlobal-P</td>\n",
       "    </tr>\n",
       "  </tbody>\n",
       "</table>\n",
       "</div>"
      ],
      "text/plain": [
       "                         Date                             ResourceGroup\n",
       "0  2021-10-16 00:00:00.000000           8107C-RG-CAR-DCE-DTO-CloudOps-D\n",
       "1  2021-10-16 00:00:00.000000  8107c-rg-car-dce-whq-cloudservicetools-d\n",
       "2  2021-10-16 00:00:00.000000         8038C-RG-CAR-DCE-DTO-CloudOps15-P\n",
       "3  2021-10-17 00:00:00.000000                cloud-shell-storage-eastus\n",
       "4  2021-10-16 00:00:00.000000        8229C-RG-CAR-MP5-WHQ-ChubbGlobal-P"
      ]
     },
     "execution_count": 62,
     "metadata": {},
     "output_type": "execute_result"
    }
   ],
   "source": [
    "df_new = pd.read_sql_query('SELECT Date, ResourceGroup FROM chunk_sql where Date > 2021-10-17',csv_database)\n",
    "df_new.head()"
   ]
  },
  {
   "cell_type": "code",
   "execution_count": 63,
   "metadata": {},
   "outputs": [
    {
     "data": {
      "text/plain": [
       "Date             object\n",
       "ResourceGroup    object\n",
       "dtype: object"
      ]
     },
     "execution_count": 63,
     "metadata": {},
     "output_type": "execute_result"
    }
   ],
   "source": [
    "df_new.dtypes"
   ]
  },
  {
   "cell_type": "code",
   "execution_count": null,
   "metadata": {},
   "outputs": [],
   "source": []
  }
 ],
 "metadata": {
  "kernelspec": {
   "display_name": "Python 3",
   "language": "python",
   "name": "python3"
  },
  "language_info": {
   "codemirror_mode": {
    "name": "ipython",
    "version": 3
   },
   "file_extension": ".py",
   "mimetype": "text/x-python",
   "name": "python",
   "nbconvert_exporter": "python",
   "pygments_lexer": "ipython3",
   "version": "3.7.1"
  }
 },
 "nbformat": 4,
 "nbformat_minor": 2
}
